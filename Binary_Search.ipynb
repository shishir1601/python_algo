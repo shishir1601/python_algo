{
  "nbformat": 4,
  "nbformat_minor": 0,
  "metadata": {
    "colab": {
      "name": "Binary_Search.ipynb",
      "provenance": [],
      "authorship_tag": "ABX9TyOP2aR9Ppu76kWowx9Qnkea",
      "include_colab_link": true
    },
    "kernelspec": {
      "name": "python3",
      "display_name": "Python 3"
    }
  },
  "cells": [
    {
      "cell_type": "markdown",
      "metadata": {
        "id": "view-in-github",
        "colab_type": "text"
      },
      "source": [
        "<a href=\"https://colab.research.google.com/github/shishir1601/python_algo/blob/main/Binary_Search.ipynb\" target=\"_parent\"><img src=\"https://colab.research.google.com/assets/colab-badge.svg\" alt=\"Open In Colab\"/></a>"
      ]
    },
    {
      "cell_type": "code",
      "metadata": {
        "id": "z_gmZy20p-dA",
        "outputId": "fd9a73e4-66a2-4622-ff6f-91b70a213409",
        "colab": {
          "base_uri": "https://localhost:8080/"
        }
      },
      "source": [
        "# YouTube Video: https://www.youtube.com/watch?v=zeULw-a7Mw8\n",
        "\n",
        "# Linear Search\n",
        "def linear_search(data, target):\t\n",
        "\tfor i in range(len(data)):\n",
        "\t\tif data[i] == target:\n",
        "\t\t\treturn True\n",
        "\treturn False\n",
        "\n",
        "# Iterative Binary Search \n",
        "def binary_search_iterative(data, target):\n",
        "\tlow = 0\n",
        "\thigh = len(data) - 1\n",
        "\n",
        "\twhile low <= high:\n",
        "\t\tmid = (low + high) // 2\n",
        "\t\tif target == data[mid]:\n",
        "\t\t\treturn True\n",
        "\t\telif target < data[mid]:\n",
        "\t\t\thigh = mid - 1\n",
        "\t\telse:\n",
        "\t\t\tlow = mid + 1\n",
        "\treturn False \n",
        "\n",
        "# Recursive Binary Search \n",
        "def binary_search_recursive(data, target, low, high):\n",
        "\tif low > high:\n",
        "\t\treturn False\n",
        "\telse:\n",
        "\t\tmid = (low + high) // 2\n",
        "\t\tif target == data[mid]:\n",
        "\t\t\treturn True\n",
        "\t\telif target < data[mid]:\n",
        "\t\t\treturn binary_search_recursive(data, target, low, mid-1)\n",
        "\t\telse:\n",
        "\t\t\treturn binary_search_recursive(data, target, mid+1, high)\n",
        "\n",
        "\n",
        "data = [2,4,5,7,8,9,12,14,17,19,22,25,27,28,33,37]\n",
        "target = 37\n",
        "\n",
        "print(binary_search_recursive(data, target, 0, len(data)-1))\n",
        "print(binary_search_iterative(data, target))\n"
      ],
      "execution_count": 3,
      "outputs": [
        {
          "output_type": "stream",
          "text": [
            "True\n",
            "True\n"
          ],
          "name": "stdout"
        }
      ]
    }
  ]
}
{
  "nbformat": 4,
  "nbformat_minor": 0,
  "metadata": {
    "colab": {
      "name": "socratica_memoization.ipynb",
      "provenance": [],
      "authorship_tag": "ABX9TyNJv9BYOp4S4LYpyKu2ptGK",
      "include_colab_link": true
    },
    "kernelspec": {
      "name": "python3",
      "display_name": "Python 3"
    }
  },
  "cells": [
    {
      "cell_type": "markdown",
      "metadata": {
        "id": "view-in-github",
        "colab_type": "text"
      },
      "source": [
        "<a href=\"https://colab.research.google.com/github/shishir1601/python_algo/blob/main/socratica_memoization.ipynb\" target=\"_parent\"><img src=\"https://colab.research.google.com/assets/colab-badge.svg\" alt=\"Open In Colab\"/></a>"
      ]
    },
    {
      "cell_type": "code",
      "metadata": {
        "id": "NEebmBZxHCjc",
        "outputId": "d0c95cd7-7ef0-441d-be54-880eceee86b1",
        "colab": {
          "base_uri": "https://localhost:8080/"
        }
      },
      "source": [
        "from functools import lru_cache\n",
        "\n",
        "@lru_cache(maxsize = 200)\n",
        "def fibbonaci(n):\n",
        "  if type(n) != int:\n",
        "    raise TypeError(\"n must be a positive integer\")\n",
        "  if n < 1:\n",
        "    raise ValueError(\"n must be a positive integer\")\n",
        "  \n",
        "  if n==1:\n",
        "    return 1\n",
        "  elif n==2:\n",
        "    return 1\n",
        "  elif n>2:\n",
        "    return fibbonaci(n-1) + fibbonaci(n-2)\n",
        "\n",
        "\n",
        "for i in range(1,10):\n",
        "  print(fibbonaci(i))\n",
        " "
      ],
      "execution_count": null,
      "outputs": [
        {
          "output_type": "stream",
          "text": [
            "1\n",
            "1\n",
            "2\n",
            "3\n",
            "5\n",
            "8\n",
            "13\n",
            "21\n",
            "34\n"
          ],
          "name": "stdout"
        }
      ]
    }
  ]
}